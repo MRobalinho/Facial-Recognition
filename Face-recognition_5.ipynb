{
 "cells": [
  {
   "cell_type": "markdown",
   "metadata": {},
   "source": [
    "# Face Recognition - Video Camera\n",
    "\n",
    "https://github.com/ageitgey/face_recognition/blob/master/examples/facerec_from_webcam.py\n",
    "\n",
    "Manuel Robalinho - 13-11-2018"
   ]
  },
  {
   "cell_type": "code",
   "execution_count": 18,
   "metadata": {
    "collapsed": true
   },
   "outputs": [],
   "source": [
    "# Import packages\n",
    "import face_recognition\n",
    "import cv2\n",
    "import win32com.client as wincl\n"
   ]
  },
  {
   "cell_type": "code",
   "execution_count": 19,
   "metadata": {
    "collapsed": true
   },
   "outputs": [],
   "source": [
    "# -- Images to Learn ------------\n",
    "first_path = 'images'\n",
    "path = first_path  + '/'\n",
    "#----------------------------------------"
   ]
  },
  {
   "cell_type": "code",
   "execution_count": 20,
   "metadata": {},
   "outputs": [
    {
     "name": "stdout",
     "output_type": "stream",
     "text": [
      "['images\\\\catarina-1.jpg', 'images\\\\catarina-2.jpg', 'images\\\\catarina-3.jpg', 'images\\\\catarina-4.jpg', 'images\\\\cr7-1.jpg', 'images\\\\freddie-1.jpg', 'images\\\\gates-1.jpg', 'images\\\\gates-2.jpg', 'images\\\\hilda-1.jpg', 'images\\\\hilda-2.jpg', 'images\\\\hilda-3.jpg', 'images\\\\kell-1.jpg', 'images\\\\kell-2.jpg', 'images\\\\manuel-1.jpg', 'images\\\\manuel-2.jpg', 'images\\\\messi-1.jpg', 'images\\\\nuno-1.jpg', 'images\\\\nuno-2.jpg', 'images\\\\nuno-3.jpg', 'images\\\\nuno-4.jpg', 'images\\\\nuno-5.jpg', 'images\\\\nuno-6.jpg', 'images\\\\nuno-7.jpg', 'images\\\\obama-1080p.jpg', 'images\\\\obama-480p.jpg', 'images\\\\obama-720p.jpg', 'images\\\\orlando-1.jpg', 'images\\\\pedro-2.jpg', 'images\\\\pedro-4.jpg']\n"
     ]
    }
   ],
   "source": [
    "# read Images from folder images\n",
    "import glob\n",
    "xfiles = glob.glob(path +\"*.jpg\")\n",
    "print(xfiles)"
   ]
  },
  {
   "cell_type": "code",
   "execution_count": 21,
   "metadata": {
    "collapsed": true
   },
   "outputs": [],
   "source": [
    "# Some initiations for video record\n",
    "global ready_to_detect_identity\n",
    "global old_name\n",
    "\n",
    "PADDING = 50\n",
    "ready_to_detect_identity = True\n",
    "# call audio to Speak names\n",
    "windows10_voice_interface = wincl.Dispatch(\"SAPI.SpVoice\")"
   ]
  },
  {
   "cell_type": "code",
   "execution_count": 22,
   "metadata": {
    "collapsed": true
   },
   "outputs": [],
   "source": [
    "# Output video record\n",
    "filename=\"output\\VideoCap1.avi\" #[place were i stored my output file]\n",
    "\n",
    "codec = cv2.VideoWriter_fourcc(*'MJPG')  # AVI\n",
    "#codec = cv2.VideoWriter_fourcc('m','p','4','v')#fourcc stands for four character code\n",
    "framerate=2\n",
    "resolution=(640,480)\n",
    "    \n",
    "VideoFileOutput=cv2.VideoWriter(filename,codec,framerate, resolution)"
   ]
  },
  {
   "cell_type": "code",
   "execution_count": 23,
   "metadata": {},
   "outputs": [
    {
     "data": {
      "text/plain": [
       "<VideoWriter 000001B6972A9CB0>"
      ]
     },
     "execution_count": 23,
     "metadata": {},
     "output_type": "execute_result"
    }
   ],
   "source": [
    "VideoFileOutput"
   ]
  },
  {
   "cell_type": "code",
   "execution_count": 24,
   "metadata": {},
   "outputs": [
    {
     "data": {
      "text/plain": [
       "['images\\\\catarina-1.jpg',\n",
       " 'images\\\\catarina-2.jpg',\n",
       " 'images\\\\catarina-3.jpg',\n",
       " 'images\\\\catarina-4.jpg',\n",
       " 'images\\\\cr7-1.jpg',\n",
       " 'images\\\\freddie-1.jpg',\n",
       " 'images\\\\gates-1.jpg',\n",
       " 'images\\\\gates-2.jpg',\n",
       " 'images\\\\hilda-1.jpg',\n",
       " 'images\\\\hilda-2.jpg',\n",
       " 'images\\\\hilda-3.jpg',\n",
       " 'images\\\\kell-1.jpg',\n",
       " 'images\\\\kell-2.jpg',\n",
       " 'images\\\\manuel-1.jpg',\n",
       " 'images\\\\manuel-2.jpg',\n",
       " 'images\\\\messi-1.jpg',\n",
       " 'images\\\\nuno-1.jpg',\n",
       " 'images\\\\nuno-2.jpg',\n",
       " 'images\\\\nuno-3.jpg',\n",
       " 'images\\\\nuno-4.jpg',\n",
       " 'images\\\\nuno-5.jpg',\n",
       " 'images\\\\nuno-6.jpg',\n",
       " 'images\\\\nuno-7.jpg',\n",
       " 'images\\\\obama-1080p.jpg',\n",
       " 'images\\\\obama-480p.jpg',\n",
       " 'images\\\\obama-720p.jpg',\n",
       " 'images\\\\orlando-1.jpg',\n",
       " 'images\\\\pedro-2.jpg',\n",
       " 'images\\\\pedro-4.jpg']"
      ]
     },
     "execution_count": 24,
     "metadata": {},
     "output_type": "execute_result"
    }
   ],
   "source": [
    "xfiles"
   ]
  },
  {
   "cell_type": "code",
   "execution_count": 25,
   "metadata": {
    "collapsed": true
   },
   "outputs": [],
   "source": [
    "# Speak user welcome to the name  \n",
    "def welcome_users(identities):\n",
    "    \"\"\" Outputs a welcome audio message to the users \"\"\"\n",
    "    \n",
    "    welcome_message = 'Welcome ,'  + identities +', have a nice day.' \n",
    "            \n",
    "    windows10_voice_interface.Speak(welcome_message)\n",
    "\n",
    "    # Allow the program to start detecting identities again\n",
    "    ready_to_detect_identity = True\n",
    "    \n",
    "# Find Text in a string\n",
    "def find(str, ch):\n",
    "    indice = 0\n",
    "    while indice < len(str):\n",
    "        if str[indice] == ch:\n",
    "            return indice\n",
    "        indice = indice + 1\n",
    "    return -1\n",
    "\n",
    "# Obtain name from a foto filename\n",
    "def namefoto(xfoto):\n",
    "    barra = len(first_path) + 1\n",
    "    ch = \"-\"\n",
    "    traco = find(xfoto,ch)\n",
    "    name = xfoto[barra:traco]\n",
    "    \n",
    "    # Capitalize first letter\n",
    "    name = (name[0:1].upper() + name[1:])\n",
    "    return (name)"
   ]
  },
  {
   "cell_type": "code",
   "execution_count": 26,
   "metadata": {},
   "outputs": [
    {
     "name": "stdout",
     "output_type": "stream",
     "text": [
      "7 12\n",
      "messi\n"
     ]
    }
   ],
   "source": [
    "# Test to obtain names from foto\n",
    "xtext = 'images\\messi-1.jpg' \n",
    "\n",
    "barra = len(first_path) + 1\n",
    "ch = \"-\"\n",
    "traco = find(xtext,ch)\n",
    "\n",
    "print(barra, traco)\n",
    "print (xtext[barra:traco])"
   ]
  },
  {
   "cell_type": "code",
   "execution_count": 27,
   "metadata": {},
   "outputs": [
    {
     "name": "stdout",
     "output_type": "stream",
     "text": [
      "Obama\n"
     ]
    }
   ],
   "source": [
    "# Test to Implement name obtain from the name foto\n",
    "xtext =  xfiles[24]\n",
    "print(namefoto(xtext))"
   ]
  },
  {
   "cell_type": "code",
   "execution_count": 28,
   "metadata": {},
   "outputs": [
    {
     "name": "stdout",
     "output_type": "stream",
     "text": [
      "24\n"
     ]
    }
   ],
   "source": [
    "# Test to Find Values in  a list\n",
    "indice = xfiles.index(xtext)\n",
    "print(indice)"
   ]
  },
  {
   "cell_type": "code",
   "execution_count": 31,
   "metadata": {},
   "outputs": [
    {
     "name": "stdout",
     "output_type": "stream",
     "text": [
      "---- Processing Images - Learning : 29 images\n",
      "Reading: 0 images\\catarina-1.jpg\n",
      "Reading: 1 images\\catarina-2.jpg\n",
      "Reading: 2 images\\catarina-3.jpg\n",
      "Reading: 3 images\\catarina-4.jpg\n",
      "Reading: 4 images\\cr7-1.jpg\n",
      "Reading: 5 images\\freddie-1.jpg\n",
      "Reading: 6 images\\gates-1.jpg\n",
      "Reading: 7 images\\gates-2.jpg\n",
      "Reading: 8 images\\hilda-1.jpg\n",
      "Reading: 9 images\\hilda-2.jpg\n",
      "Reading: 10 images\\hilda-3.jpg\n",
      "Reading: 11 images\\kell-1.jpg\n",
      "Reading: 12 images\\kell-2.jpg\n",
      "Reading: 13 images\\manuel-1.jpg\n",
      "Reading: 14 images\\manuel-2.jpg\n",
      "Reading: 15 images\\messi-1.jpg\n",
      "Reading: 16 images\\nuno-1.jpg\n",
      "Reading: 17 images\\nuno-2.jpg\n",
      "Reading: 18 images\\nuno-3.jpg\n",
      "Reading: 19 images\\nuno-4.jpg\n",
      "Reading: 20 images\\nuno-5.jpg\n",
      "Reading: 21 images\\nuno-6.jpg\n",
      "Reading: 22 images\\nuno-7.jpg\n",
      "Reading: 23 images\\obama-1080p.jpg\n",
      "Reading: 24 images\\obama-480p.jpg\n",
      "Reading: 25 images\\obama-720p.jpg\n",
      "Reading: 26 images\\orlando-1.jpg\n",
      "Reading: 27 images\\pedro-2.jpg\n",
      "Reading: 28 images\\pedro-4.jpg\n",
      "--------------------------\n",
      "---- FACE ENCODING ---\n"
     ]
    }
   ],
   "source": [
    "# Load a sample picture and learn how to recognize it.\n",
    "\n",
    "x_face_encoding = []\n",
    "\n",
    "x = 0\n",
    "list_len = len(xfiles)\n",
    "print('---- Processing Images - Learning :', list_len, 'images')\n",
    "while( x < list_len):\n",
    "    x_image = xfiles[x]\n",
    "    print('Reading:', x, xfiles[x])\n",
    "        \n",
    "    x_image_face = face_recognition.load_image_file(x_image)\n",
    "    \n",
    "    x_image_geom = face_recognition.face_encodings(x_image_face)[0]\n",
    "    x_face_encoding.append(x_image_geom)\n",
    "    \n",
    "    x+=1\n",
    "\n",
    "print('--------------------------')\n",
    "print('---- FACE ENCODING ---')\n",
    "#print(x_face_encoding)\n"
   ]
  },
  {
   "cell_type": "code",
   "execution_count": 34,
   "metadata": {
    "collapsed": true
   },
   "outputs": [],
   "source": [
    "# Get a reference to webcam #0 (the default one)\n",
    "video_capture = cv2.VideoCapture(0)\n",
    "\n",
    "# -------------- LEARNED IMAGES ---------------------------\n",
    "\n",
    "# Create arrays of known face encodings and their names\n",
    "known_face_encodings = x_face_encoding\n",
    "\n",
    "# Names of the images\n",
    "known_face_names = xfiles"
   ]
  },
  {
   "cell_type": "code",
   "execution_count": 35,
   "metadata": {},
   "outputs": [
    {
     "name": "stdout",
     "output_type": "stream",
     "text": [
      "Founded: 13 Manuel\n",
      "Founded: 13 Manuel\n",
      "Founded: 13 Manuel\n",
      "Founded: 13 Manuel\n",
      "Founded: 13 Manuel\n",
      "Founded: 13 Manuel\n",
      "Founded: 13 Manuel\n",
      "Founded: 13 Manuel\n",
      "Founded: 13 Manuel\n",
      "Founded: 13 Manuel\n",
      "Founded: 13 Manuel\n",
      "Founded: 13 Manuel\n",
      "Founded: 13 Manuel\n",
      "Founded: 13 Manuel\n",
      "Founded: 13 Manuel\n",
      "Founded: 13 Manuel\n",
      "Founded: 13 Manuel\n",
      "Founded: 13 Manuel\n",
      "Founded: 13 Manuel\n",
      "Founded: 13 Manuel\n",
      "Founded: 13 Manuel\n",
      "Founded: 23 Obama\n",
      "Founded: 23 Obama\n",
      "Founded: 23 Obama\n",
      "Founded: 23 Obama\n",
      "Founded: 23 Obama\n",
      "Founded: 23 Obama\n",
      "Founded: 13 Manuel\n",
      "Founded: 13 Manuel\n",
      "Founded: 13 Manuel\n",
      "Founded: 13 Manuel\n",
      "Founded: 13 Manuel\n",
      "Founded: 5 Freddie\n",
      "Founded: 13 Manuel\n",
      "Founded: 12 Kell\n",
      "Founded: 16 Nuno\n",
      "Founded: 13 Manuel\n",
      "Founded: 13 Manuel\n",
      "Founded: 5 Freddie\n",
      "Founded: 20 Nuno\n",
      "Founded: 16 Nuno\n",
      "Founded: 13 Manuel\n",
      "Founded: 13 Manuel\n",
      "Founded: 13 Manuel\n",
      "Founded: 13 Manuel\n",
      "Founded: 13 Manuel\n",
      "Founded: 13 Manuel\n",
      "Founded: 13 Manuel\n",
      "Founded: 14 Manuel\n",
      "Founded: 13 Manuel\n",
      "Founded: 8 Hilda\n",
      "Founded: 13 Manuel\n",
      "Founded: 8 Hilda\n",
      "Founded: 13 Manuel\n",
      "Founded: 8 Hilda\n",
      "Founded: 11 Kell\n",
      "Founded: 13 Manuel\n",
      "Founded: 11 Kell\n",
      "Founded: 13 Manuel\n",
      "Founded: 8 Hilda\n",
      "Founded: 8 Hilda\n",
      "Founded: 13 Manuel\n",
      "Founded: 8 Hilda\n",
      "Founded: 13 Manuel\n",
      "Founded: 13 Manuel\n",
      "Founded: 8 Hilda\n",
      "Founded: 13 Manuel\n",
      "Founded: 8 Hilda\n",
      "Founded: 13 Manuel\n",
      "Founded: 8 Hilda\n",
      "Founded: 13 Manuel\n",
      "Founded: 8 Hilda\n",
      "Founded: 8 Hilda\n",
      "Founded: 13 Manuel\n",
      "Founded: 13 Manuel\n",
      "Founded: 8 Hilda\n",
      "Founded: 13 Manuel\n",
      "Founded: 8 Hilda\n",
      "Founded: 13 Manuel\n",
      "Founded: 13 Manuel\n",
      "Founded: 13 Manuel\n",
      "Founded: 13 Manuel\n",
      "Founded: 13 Manuel\n",
      "Founded: 13 Manuel\n",
      "Founded: 13 Manuel\n",
      "Founded: 16 Nuno\n",
      "Founded: 16 Nuno\n",
      "Founded: 13 Manuel\n",
      "Founded: 0 Catarina\n",
      "Founded: 13 Manuel\n",
      "Founded: 0 Catarina\n",
      "Founded: 0 Catarina\n",
      "Founded: 13 Manuel\n",
      "Founded: 0 Catarina\n",
      "Founded: 13 Manuel\n",
      "Founded: 13 Manuel\n",
      "Founded: 16 Nuno\n",
      "Founded: 0 Catarina\n",
      "Founded: 13 Manuel\n",
      "Founded: 13 Manuel\n",
      "Founded: 16 Nuno\n",
      "Founded: 0 Catarina\n",
      "Founded: 0 Catarina\n",
      "Founded: 13 Manuel\n",
      "Founded: 0 Catarina\n",
      "Founded: 13 Manuel\n",
      "Founded: 13 Manuel\n",
      "Founded: 13 Manuel\n",
      "Founded: 13 Manuel\n",
      "Founded: 13 Manuel\n",
      "Founded: 13 Manuel\n",
      "Founded: 13 Manuel\n",
      "Founded: 5 Freddie\n",
      "Founded: 12 Kell\n",
      "Founded: 11 Kell\n",
      "Founded: 5 Freddie\n",
      "Founded: 8 Hilda\n",
      "Founded: 13 Manuel\n",
      "Founded: 0 Catarina\n",
      "Founded: 8 Hilda\n",
      "Founded: 16 Nuno\n",
      "Founded: 13 Manuel\n",
      "Founded: 8 Hilda\n",
      "Founded: 5 Freddie\n",
      "Founded: 0 Catarina\n",
      "Founded: 14 Manuel\n",
      "Founded: 11 Kell\n",
      "Founded: 0 Catarina\n",
      "Founded: 16 Nuno\n",
      "Founded: 8 Hilda\n",
      "Founded: 0 Catarina\n",
      "Founded: 8 Hilda\n",
      "Founded: 13 Manuel\n",
      "Key q Pressed - Exit\n"
     ]
    }
   ],
   "source": [
    "# TRY RECOGNITION IN VIDEO CAMERA\n",
    "old_name = \"Unknown\"\n",
    "while True:\n",
    "    # Grab a single frame of video\n",
    "    ret, frame = video_capture.read()\n",
    "\n",
    "    # Convert the image from BGR color (which OpenCV uses) to RGB color (which face_recognition uses)\n",
    "    rgb_frame = frame[:, :, ::-1]\n",
    "\n",
    "    # Find all the faces and face encodings in the frame of video\n",
    "    # face_locations is an array listing the co-ordinates of each face!\n",
    "    face_locations = face_recognition.face_locations(rgb_frame)\n",
    "    face_encodings = face_recognition.face_encodings(rgb_frame, face_locations)\n",
    "\n",
    "    # Loop through each face in this frame of video\n",
    "    for (top, right, bottom, left), face_encoding in zip(face_locations, face_encodings):\n",
    "        # See if the face is a match for the known face(s)\n",
    "        matches = face_recognition.compare_faces(known_face_encodings, face_encoding)\n",
    "\n",
    "        find_name = \"Unknown\"\n",
    "\n",
    "        # If a match was found in known_face_encodings, just use the first one.\n",
    "        if True in matches:\n",
    "            first_match_index = matches.index(True)\n",
    "        #    find_name = known_face_names[first_match_index]\n",
    "        \n",
    "            # Obtain the name from the name of the filename\n",
    "            xfile_name  =  known_face_names[first_match_index]\n",
    "            find_name = namefoto(xfile_name)\n",
    "\n",
    "            print('Founded:', first_match_index, find_name)\n",
    "                        \n",
    "            if find_name != old_name:\n",
    "                old_name = find_name\n",
    "             #  welcome_users(find_name)  # Speak my name\n",
    "              \n",
    "            \n",
    "        # Draw a box around the face\n",
    "        cv2.rectangle(frame, (left, top), (right, bottom), (0, 0, 255), 2)\n",
    "\n",
    "        # Draw a label with a name below the face\n",
    "        cv2.rectangle(frame, (left, bottom - 35), (right, bottom), (0, 0, 255), cv2.FILLED)\n",
    "        font = cv2.FONT_HERSHEY_DUPLEX\n",
    "        cv2.putText(frame, find_name, (left + 6, bottom - 6), font, 1.0, (255, 255, 255), 1)\n",
    "    \n",
    "    # Write at output video\n",
    "    VideoFileOutput.write(frame)\n",
    "    \n",
    "    # Display the resulting image\n",
    "    cv2.imshow('Video preview-MRobalinho', frame)\n",
    "        \n",
    "    # Hit 'q' on the keyboard to quit!\n",
    "    if cv2.waitKey(1) & 0xFF == ord('q'):\n",
    "        break\n",
    "\n",
    "# Release handle to the webcam\n",
    "# Output Video\n",
    "print('Key q Pressed - Exit')\n",
    "VideoFileOutput.release()\n",
    "#\n",
    "video_capture.release()\n",
    "cv2.destroyAllWindows()"
   ]
  },
  {
   "cell_type": "code",
   "execution_count": null,
   "metadata": {
    "collapsed": true
   },
   "outputs": [],
   "source": []
  }
 ],
 "metadata": {
  "kernelspec": {
   "display_name": "Python 3",
   "language": "python",
   "name": "python3"
  },
  "language_info": {
   "codemirror_mode": {
    "name": "ipython",
    "version": 3
   },
   "file_extension": ".py",
   "mimetype": "text/x-python",
   "name": "python",
   "nbconvert_exporter": "python",
   "pygments_lexer": "ipython3",
   "version": "3.6.7"
  }
 },
 "nbformat": 4,
 "nbformat_minor": 2
}
