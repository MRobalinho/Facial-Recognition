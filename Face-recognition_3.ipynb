{
 "cells": [
  {
   "cell_type": "markdown",
   "metadata": {},
   "source": [
    "# Face Recognition - Video Camera\n",
    "\n",
    "https://github.com/ageitgey/face_recognition/blob/master/examples/facerec_from_webcam.py"
   ]
  },
  {
   "cell_type": "code",
   "execution_count": 8,
   "metadata": {
    "collapsed": true
   },
   "outputs": [],
   "source": [
    "# Import packages\n",
    "import face_recognition\n",
    "import cv2\n",
    "import win32com.client as wincl"
   ]
  },
  {
   "cell_type": "code",
   "execution_count": 9,
   "metadata": {
    "collapsed": true
   },
   "outputs": [],
   "source": [
    "# -- Images to Learn ------------\n",
    "path = 'images/'\n",
    "image1 = path + \"obama.jpg\"\n",
    "image2 = path + \"biden.jpg\"\n",
    "image3 = path + \"me-1.jpg\"\n",
    "image4 = path + \"me-2.jpg\"\n",
    "image5 = path + \"kell-1.jpg\"\n",
    "image6 = path + \"kell-2.jpg\"\n",
    "#--- Names to Learn ----------\n",
    "known_face_names = [\n",
    "    \"Barack Obama\",\n",
    "    \"Joe Biden\",\n",
    "    \"Manuel\",\n",
    "    \"Manuel Robalinho\",\n",
    "    \"Kell\",\n",
    "    \"Kelzia Robalinho\"\n",
    "]\n",
    "#----------------------------------------"
   ]
  },
  {
   "cell_type": "code",
   "execution_count": 10,
   "metadata": {},
   "outputs": [],
   "source": [
    "PADDING = 50\n",
    "ready_to_detect_identity = True\n",
    "windows10_voice_interface = wincl.Dispatch(\"SAPI.SpVoice\")\n",
    "\n",
    "global ready_to_detect_identity\n",
    "global old_name"
   ]
  },
  {
   "cell_type": "code",
   "execution_count": 21,
   "metadata": {
    "collapsed": true
   },
   "outputs": [],
   "source": [
    "# Output video record\n",
    "filename=\"output\\VideoCap1.avi\" #[place were i stored my output file]\n",
    "\n",
    "codec = cv2.VideoWriter_fourcc(*'MJPG')  # AVI\n",
    "#codec = cv2.VideoWriter_fourcc('m','p','4','v')#fourcc stands for four character code\n",
    "framerate=2\n",
    "resolution=(640,480)\n",
    "    \n",
    "VideoFileOutput=cv2.VideoWriter(filename,codec,framerate, resolution)"
   ]
  },
  {
   "cell_type": "code",
   "execution_count": 22,
   "metadata": {},
   "outputs": [
    {
     "data": {
      "text/plain": [
       "<VideoWriter 000001EC70C07230>"
      ]
     },
     "execution_count": 22,
     "metadata": {},
     "output_type": "execute_result"
    }
   ],
   "source": [
    "VideoFileOutput"
   ]
  },
  {
   "cell_type": "code",
   "execution_count": 23,
   "metadata": {
    "collapsed": true
   },
   "outputs": [],
   "source": [
    "def welcome_users(identities):\n",
    "    \"\"\" Outputs a welcome audio message to the users \"\"\"\n",
    "    \n",
    "    welcome_message = 'Welcome ,'  + identities +', have a nice day.' \n",
    "            \n",
    "    windows10_voice_interface.Speak(welcome_message)\n",
    "\n",
    "    # Allow the program to start detecting identities again\n",
    "    ready_to_detect_identity = True"
   ]
  },
  {
   "cell_type": "code",
   "execution_count": 24,
   "metadata": {},
   "outputs": [
    {
     "name": "stdout",
     "output_type": "stream",
     "text": [
      "Key q Pressed - Exit\n"
     ]
    }
   ],
   "source": [
    "# This is a super simple (but slow) example of running face recognition on live video from your webcam.\n",
    "# There's a second example that's a little more complicated but runs faster.\n",
    "\n",
    "# PLEASE NOTE: This example requires OpenCV (the `cv2` library) to be installed only to read from your webcam.\n",
    "# OpenCV is *not* required to use the face_recognition library. It's only required if you want to run this\n",
    "# specific demo. If you have trouble installing it, try any of the other demos that don't require it instead.\n",
    "\n",
    "# Get a reference to webcam #0 (the default one)\n",
    "video_capture = cv2.VideoCapture(0)\n",
    "\n",
    "# -------------- LEARN IMAGES ---------------------------\n",
    "# Load a sample picture and learn how to recognize it.\n",
    "x1_image = face_recognition.load_image_file(image1)\n",
    "x1_face_encoding = face_recognition.face_encodings(x1_image)[0]\n",
    "\n",
    "# Load a sample picture and learn how to recognize it.\n",
    "x2_image = face_recognition.load_image_file(image2)\n",
    "x2_face_encoding = face_recognition.face_encodings(x2_image)[0]\n",
    "\n",
    "# Load a sample picture and learn how to recognize it.\n",
    "x3_image = face_recognition.load_image_file(image2)\n",
    "x3_face_encoding = face_recognition.face_encodings(x3_image)[0]\n",
    "\n",
    "# Load a sample picture and learn how to recognize it.\n",
    "x4_image = face_recognition.load_image_file(image3)\n",
    "x4_face_encoding = face_recognition.face_encodings(x4_image)[0]\n",
    "\n",
    "# Load a sample picture and learn how to recognize it.\n",
    "x5_image = face_recognition.load_image_file(image5)\n",
    "x5_face_encoding = face_recognition.face_encodings(x5_image)[0]\n",
    "\n",
    "# Load a sample picture and learn how to recognize it.\n",
    "x6_image = face_recognition.load_image_file(image6)\n",
    "x6_face_encoding = face_recognition.face_encodings(x6_image)[0]\n",
    "#---------------------------------------------------------------\n",
    "\n",
    "# Create arrays of known face encodings and their names\n",
    "known_face_encodings = [\n",
    "    x1_face_encoding,\n",
    "    x2_face_encoding,\n",
    "    x3_face_encoding,\n",
    "    x4_face_encoding,\n",
    "    x5_face_encoding,\n",
    "    x6_face_encoding,\n",
    "]\n",
    "\n",
    "old_name = \"Unknown\"\n",
    "while True:\n",
    "    # Grab a single frame of video\n",
    "    ret, frame = video_capture.read()\n",
    "\n",
    "    # Convert the image from BGR color (which OpenCV uses) to RGB color (which face_recognition uses)\n",
    "    rgb_frame = frame[:, :, ::-1]\n",
    "\n",
    "    # Find all the faces and face enqcodings in the frame of video\n",
    "    face_locations = face_recognition.face_locations(rgb_frame)\n",
    "    face_encodings = face_recognition.face_encodings(rgb_frame, face_locations)\n",
    "\n",
    "    # Loop through each face in this frame of video\n",
    "    for (top, right, bottom, left), face_encoding in zip(face_locations, face_encodings):\n",
    "        # See if the face is a match for the known face(s)\n",
    "        matches = face_recognition.compare_faces(known_face_encodings, face_encoding)\n",
    "\n",
    "        name = \"Unknown\"\n",
    "\n",
    "        # If a match was found in known_face_encodings, just use the first one.\n",
    "        if True in matches:\n",
    "            first_match_index = matches.index(True)\n",
    "            name = known_face_names[first_match_index]\n",
    "            \n",
    "            if name != old_name:\n",
    "                welcome_users(name)  # Speak my name\n",
    "            old_name = name\n",
    "            \n",
    "        # Draw a box around the face\n",
    "        cv2.rectangle(frame, (left, top), (right, bottom), (0, 0, 255), 2)\n",
    "\n",
    "        # Draw a label with a name below the face\n",
    "        cv2.rectangle(frame, (left, bottom - 35), (right, bottom), (0, 0, 255), cv2.FILLED)\n",
    "        font = cv2.FONT_HERSHEY_DUPLEX\n",
    "        cv2.putText(frame, name, (left + 6, bottom - 6), font, 1.0, (255, 255, 255), 1)\n",
    "    \n",
    "    # Write at output video\n",
    "    VideoFileOutput.write(frame)\n",
    "    \n",
    "    # Display the resulting image\n",
    "    cv2.imshow('Video preview-MRobalinho', frame)\n",
    "        \n",
    "    # Hit 'q' on the keyboard to quit!\n",
    "    if cv2.waitKey(1) & 0xFF == ord('q'):\n",
    "        break\n",
    "\n",
    "# Release handle to the webcam\n",
    "# Output Video\n",
    "print('Key q Pressed - Exit')\n",
    "VideoFileOutput.release()\n",
    "#\n",
    "video_capture.release()\n",
    "cv2.destroyAllWindows()"
   ]
  },
  {
   "cell_type": "code",
   "execution_count": null,
   "metadata": {
    "collapsed": true
   },
   "outputs": [],
   "source": []
  }
 ],
 "metadata": {
  "kernelspec": {
   "display_name": "Python 3",
   "language": "python",
   "name": "python3"
  },
  "language_info": {
   "codemirror_mode": {
    "name": "ipython",
    "version": 3
   },
   "file_extension": ".py",
   "mimetype": "text/x-python",
   "name": "python",
   "nbconvert_exporter": "python",
   "pygments_lexer": "ipython3",
   "version": "3.6.7"
  }
 },
 "nbformat": 4,
 "nbformat_minor": 2
}
